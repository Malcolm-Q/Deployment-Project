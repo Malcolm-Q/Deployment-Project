{
 "cells": [
  {
   "attachments": {},
   "cell_type": "markdown",
   "metadata": {},
   "source": [
    "# Loan predictions\n",
    "\n",
    "## Problem Statement\n",
    "\n",
    "We want to automate the loan eligibility process based on customer details that are provided as online application forms are being filled. You can find the dataset [here](https://drive.google.com/file/d/1h_jl9xqqqHflI5PsuiQd_soNYxzFfjKw/view?usp=sharing). These details concern the customer's Gender, Marital Status, Education, Number of Dependents, Income, Loan Amount, Credit History and other things as well. \n",
    "\n",
    "|Variable| Description|\n",
    "\n",
    "\n",
    "\n",
    "\n",
    "\n",
    "\n",
    "|: ------------- |:-------------|\n",
    "\n",
    "|Loan_ID| Unique Loan ID|\n",
    "\n",
    "|Gender| Male/ Female|\n",
    "\n",
    "|Married| Applicant married (Y/N)|\n",
    "\n",
    "|Dependents| Number of dependents|\n",
    "\n",
    "|Education| Applicant Education (Graduate/ Under Graduate)|\n",
    "\n",
    "|Self_Employed| Self employed (Y/N)|\n",
    "\n",
    "|ApplicantIncome| Applicant income|\n",
    "\n",
    "|CoapplicantIncome| Coapplicant income|\n",
    "\n",
    "|LoanAmount| Loan amount in thousands|\n",
    "\n",
    "|Loan_Amount_Term| Term of loan in months|\n",
    "\n",
    "|Credit_History| credit history meets guidelines|\n",
    "\n",
    "|Property_Area| Urban/ Semi Urban/ Rural|\n",
    "\n",
    "|Loan_Status| Loan approved (Y/N)\n",
    "\n",
    "\n",
    "\n",
    "### Explore the problem in following stages:\n",
    "\n",
    "1. Hypothesis Generation – understanding the problem better by brainstorming possible factors that can impact the outcome\n",
    "2. Data Exploration – looking at categorical and continuous feature summaries and making inferences about the data.\n",
    "3. Data Cleaning – imputing missing values in the data and checking for outliers\n",
    "4. Feature Engineering – modifying existing variables and creating new ones for analysis\n",
    "5. Model Building – making predictive models on the data"
   ]
  },
  {
   "cell_type": "markdown",
   "metadata": {},
   "source": [
    "## 1. Hypothesis Generation\n",
    "\n",
    "Generating a hypothesis is a major step in the process of analyzing data. This involves understanding the problem and formulating a meaningful hypothesis about what could potentially have a good impact on the outcome. This is done BEFORE looking at the data, and we end up creating a laundry list of the different analyses which we can potentially perform if data is available.\n",
    "\n",
    "#### Possible hypotheses\n",
    "Which applicants are more likely to get a loan\n",
    "\n",
    "1. Applicants having a credit history \n",
    "2. Applicants with higher applicant and co-applicant incomes\n",
    "3. Applicants with higher education level\n",
    "4. Properties in urban areas with high growth perspectives\n",
    "\n",
    "Do more brainstorming and create some hypotheses of your own. Remember that the data might not be sufficient to test all of these, but forming these enables a better understanding of the problem."
   ]
  },
  {
   "cell_type": "markdown",
   "metadata": {},
   "source": [
    "## 2. Data Exploration\n",
    "Let's do some basic data exploration here and come up with some inferences about the data. Go ahead and try to figure out some irregularities and address them in the next section. "
   ]
  },
  {
   "cell_type": "code",
   "execution_count": 61,
   "metadata": {
    "collapsed": false,
    "jupyter": {
     "outputs_hidden": false
    }
   },
   "outputs": [
    {
     "data": {
      "text/html": [
       "<div>\n",
       "<style scoped>\n",
       "    .dataframe tbody tr th:only-of-type {\n",
       "        vertical-align: middle;\n",
       "    }\n",
       "\n",
       "    .dataframe tbody tr th {\n",
       "        vertical-align: top;\n",
       "    }\n",
       "\n",
       "    .dataframe thead th {\n",
       "        text-align: right;\n",
       "    }\n",
       "</style>\n",
       "<table border=\"1\" class=\"dataframe\">\n",
       "  <thead>\n",
       "    <tr style=\"text-align: right;\">\n",
       "      <th></th>\n",
       "      <th>Loan_ID</th>\n",
       "      <th>Gender</th>\n",
       "      <th>Married</th>\n",
       "      <th>Dependents</th>\n",
       "      <th>Education</th>\n",
       "      <th>Self_Employed</th>\n",
       "      <th>ApplicantIncome</th>\n",
       "      <th>CoapplicantIncome</th>\n",
       "      <th>LoanAmount</th>\n",
       "      <th>Loan_Amount_Term</th>\n",
       "      <th>Credit_History</th>\n",
       "      <th>Property_Area</th>\n",
       "      <th>Loan_Status</th>\n",
       "    </tr>\n",
       "  </thead>\n",
       "  <tbody>\n",
       "    <tr>\n",
       "      <th>0</th>\n",
       "      <td>LP001002</td>\n",
       "      <td>Male</td>\n",
       "      <td>No</td>\n",
       "      <td>0</td>\n",
       "      <td>Graduate</td>\n",
       "      <td>No</td>\n",
       "      <td>5849</td>\n",
       "      <td>0.0</td>\n",
       "      <td>NaN</td>\n",
       "      <td>360.0</td>\n",
       "      <td>1.0</td>\n",
       "      <td>Urban</td>\n",
       "      <td>Y</td>\n",
       "    </tr>\n",
       "    <tr>\n",
       "      <th>1</th>\n",
       "      <td>LP001003</td>\n",
       "      <td>Male</td>\n",
       "      <td>Yes</td>\n",
       "      <td>1</td>\n",
       "      <td>Graduate</td>\n",
       "      <td>No</td>\n",
       "      <td>4583</td>\n",
       "      <td>1508.0</td>\n",
       "      <td>128.0</td>\n",
       "      <td>360.0</td>\n",
       "      <td>1.0</td>\n",
       "      <td>Rural</td>\n",
       "      <td>N</td>\n",
       "    </tr>\n",
       "    <tr>\n",
       "      <th>2</th>\n",
       "      <td>LP001005</td>\n",
       "      <td>Male</td>\n",
       "      <td>Yes</td>\n",
       "      <td>0</td>\n",
       "      <td>Graduate</td>\n",
       "      <td>Yes</td>\n",
       "      <td>3000</td>\n",
       "      <td>0.0</td>\n",
       "      <td>66.0</td>\n",
       "      <td>360.0</td>\n",
       "      <td>1.0</td>\n",
       "      <td>Urban</td>\n",
       "      <td>Y</td>\n",
       "    </tr>\n",
       "    <tr>\n",
       "      <th>3</th>\n",
       "      <td>LP001006</td>\n",
       "      <td>Male</td>\n",
       "      <td>Yes</td>\n",
       "      <td>0</td>\n",
       "      <td>Not Graduate</td>\n",
       "      <td>No</td>\n",
       "      <td>2583</td>\n",
       "      <td>2358.0</td>\n",
       "      <td>120.0</td>\n",
       "      <td>360.0</td>\n",
       "      <td>1.0</td>\n",
       "      <td>Urban</td>\n",
       "      <td>Y</td>\n",
       "    </tr>\n",
       "    <tr>\n",
       "      <th>4</th>\n",
       "      <td>LP001008</td>\n",
       "      <td>Male</td>\n",
       "      <td>No</td>\n",
       "      <td>0</td>\n",
       "      <td>Graduate</td>\n",
       "      <td>No</td>\n",
       "      <td>6000</td>\n",
       "      <td>0.0</td>\n",
       "      <td>141.0</td>\n",
       "      <td>360.0</td>\n",
       "      <td>1.0</td>\n",
       "      <td>Urban</td>\n",
       "      <td>Y</td>\n",
       "    </tr>\n",
       "  </tbody>\n",
       "</table>\n",
       "</div>"
      ],
      "text/plain": [
       "    Loan_ID Gender Married Dependents     Education Self_Employed  \\\n",
       "0  LP001002   Male      No          0      Graduate            No   \n",
       "1  LP001003   Male     Yes          1      Graduate            No   \n",
       "2  LP001005   Male     Yes          0      Graduate           Yes   \n",
       "3  LP001006   Male     Yes          0  Not Graduate            No   \n",
       "4  LP001008   Male      No          0      Graduate            No   \n",
       "\n",
       "   ApplicantIncome  CoapplicantIncome  LoanAmount  Loan_Amount_Term  \\\n",
       "0             5849                0.0         NaN             360.0   \n",
       "1             4583             1508.0       128.0             360.0   \n",
       "2             3000                0.0        66.0             360.0   \n",
       "3             2583             2358.0       120.0             360.0   \n",
       "4             6000                0.0       141.0             360.0   \n",
       "\n",
       "   Credit_History Property_Area Loan_Status  \n",
       "0             1.0         Urban           Y  \n",
       "1             1.0         Rural           N  \n",
       "2             1.0         Urban           Y  \n",
       "3             1.0         Urban           Y  \n",
       "4             1.0         Urban           Y  "
      ]
     },
     "execution_count": 61,
     "metadata": {},
     "output_type": "execute_result"
    }
   ],
   "source": [
    "import pandas as pd\n",
    "import numpy as np\n",
    "from matplotlib import pyplot as plt\n",
    "\n",
    "df = pd.read_csv('../data/data.csv') \n",
    "df.head()"
   ]
  },
  {
   "cell_type": "markdown",
   "metadata": {},
   "source": [
    "One of the key challenges in any data set are missing values. Lets start by checking which columns contain missing values."
   ]
  },
  {
   "cell_type": "code",
   "execution_count": 2,
   "metadata": {
    "collapsed": false,
    "jupyter": {
     "outputs_hidden": false
    }
   },
   "outputs": [
    {
     "name": "stdout",
     "output_type": "stream",
     "text": [
      "<class 'pandas.core.frame.DataFrame'>\n",
      "RangeIndex: 614 entries, 0 to 613\n",
      "Data columns (total 13 columns):\n",
      " #   Column             Non-Null Count  Dtype  \n",
      "---  ------             --------------  -----  \n",
      " 0   Loan_ID            614 non-null    object \n",
      " 1   Gender             601 non-null    object \n",
      " 2   Married            611 non-null    object \n",
      " 3   Dependents         599 non-null    object \n",
      " 4   Education          614 non-null    object \n",
      " 5   Self_Employed      582 non-null    object \n",
      " 6   ApplicantIncome    614 non-null    int64  \n",
      " 7   CoapplicantIncome  614 non-null    float64\n",
      " 8   LoanAmount         592 non-null    float64\n",
      " 9   Loan_Amount_Term   600 non-null    float64\n",
      " 10  Credit_History     564 non-null    float64\n",
      " 11  Property_Area      614 non-null    object \n",
      " 12  Loan_Status        614 non-null    object \n",
      "dtypes: float64(4), int64(1), object(8)\n",
      "memory usage: 62.5+ KB\n"
     ]
    }
   ],
   "source": [
    "df.info()"
   ]
  },
  {
   "cell_type": "markdown",
   "metadata": {},
   "source": [
    "Look at some basic statistics for numerical variables."
   ]
  },
  {
   "cell_type": "code",
   "execution_count": 3,
   "metadata": {
    "collapsed": false,
    "jupyter": {
     "outputs_hidden": false
    }
   },
   "outputs": [
    {
     "data": {
      "text/html": [
       "<div>\n",
       "<style scoped>\n",
       "    .dataframe tbody tr th:only-of-type {\n",
       "        vertical-align: middle;\n",
       "    }\n",
       "\n",
       "    .dataframe tbody tr th {\n",
       "        vertical-align: top;\n",
       "    }\n",
       "\n",
       "    .dataframe thead th {\n",
       "        text-align: right;\n",
       "    }\n",
       "</style>\n",
       "<table border=\"1\" class=\"dataframe\">\n",
       "  <thead>\n",
       "    <tr style=\"text-align: right;\">\n",
       "      <th></th>\n",
       "      <th>ApplicantIncome</th>\n",
       "      <th>CoapplicantIncome</th>\n",
       "      <th>LoanAmount</th>\n",
       "      <th>Loan_Amount_Term</th>\n",
       "      <th>Credit_History</th>\n",
       "    </tr>\n",
       "  </thead>\n",
       "  <tbody>\n",
       "    <tr>\n",
       "      <th>count</th>\n",
       "      <td>614.000000</td>\n",
       "      <td>614.000000</td>\n",
       "      <td>592.000000</td>\n",
       "      <td>600.00000</td>\n",
       "      <td>564.000000</td>\n",
       "    </tr>\n",
       "    <tr>\n",
       "      <th>mean</th>\n",
       "      <td>5403.459283</td>\n",
       "      <td>1621.245798</td>\n",
       "      <td>146.412162</td>\n",
       "      <td>342.00000</td>\n",
       "      <td>0.842199</td>\n",
       "    </tr>\n",
       "    <tr>\n",
       "      <th>std</th>\n",
       "      <td>6109.041673</td>\n",
       "      <td>2926.248369</td>\n",
       "      <td>85.587325</td>\n",
       "      <td>65.12041</td>\n",
       "      <td>0.364878</td>\n",
       "    </tr>\n",
       "    <tr>\n",
       "      <th>min</th>\n",
       "      <td>150.000000</td>\n",
       "      <td>0.000000</td>\n",
       "      <td>9.000000</td>\n",
       "      <td>12.00000</td>\n",
       "      <td>0.000000</td>\n",
       "    </tr>\n",
       "    <tr>\n",
       "      <th>25%</th>\n",
       "      <td>2877.500000</td>\n",
       "      <td>0.000000</td>\n",
       "      <td>100.000000</td>\n",
       "      <td>360.00000</td>\n",
       "      <td>1.000000</td>\n",
       "    </tr>\n",
       "    <tr>\n",
       "      <th>50%</th>\n",
       "      <td>3812.500000</td>\n",
       "      <td>1188.500000</td>\n",
       "      <td>128.000000</td>\n",
       "      <td>360.00000</td>\n",
       "      <td>1.000000</td>\n",
       "    </tr>\n",
       "    <tr>\n",
       "      <th>75%</th>\n",
       "      <td>5795.000000</td>\n",
       "      <td>2297.250000</td>\n",
       "      <td>168.000000</td>\n",
       "      <td>360.00000</td>\n",
       "      <td>1.000000</td>\n",
       "    </tr>\n",
       "    <tr>\n",
       "      <th>max</th>\n",
       "      <td>81000.000000</td>\n",
       "      <td>41667.000000</td>\n",
       "      <td>700.000000</td>\n",
       "      <td>480.00000</td>\n",
       "      <td>1.000000</td>\n",
       "    </tr>\n",
       "  </tbody>\n",
       "</table>\n",
       "</div>"
      ],
      "text/plain": [
       "       ApplicantIncome  CoapplicantIncome  LoanAmount  Loan_Amount_Term  \\\n",
       "count       614.000000         614.000000  592.000000         600.00000   \n",
       "mean       5403.459283        1621.245798  146.412162         342.00000   \n",
       "std        6109.041673        2926.248369   85.587325          65.12041   \n",
       "min         150.000000           0.000000    9.000000          12.00000   \n",
       "25%        2877.500000           0.000000  100.000000         360.00000   \n",
       "50%        3812.500000        1188.500000  128.000000         360.00000   \n",
       "75%        5795.000000        2297.250000  168.000000         360.00000   \n",
       "max       81000.000000       41667.000000  700.000000         480.00000   \n",
       "\n",
       "       Credit_History  \n",
       "count      564.000000  \n",
       "mean         0.842199  \n",
       "std          0.364878  \n",
       "min          0.000000  \n",
       "25%          1.000000  \n",
       "50%          1.000000  \n",
       "75%          1.000000  \n",
       "max          1.000000  "
      ]
     },
     "execution_count": 3,
     "metadata": {},
     "output_type": "execute_result"
    }
   ],
   "source": [
    "df.describe()"
   ]
  },
  {
   "cell_type": "markdown",
   "metadata": {},
   "source": [
    "1. How many applicants have a `Credit_History`? (`Credit_History` has value 1 for those who have a credit history and 0 otherwise)\n",
    "2. Is the `ApplicantIncome` distribution in line with your expectation? Similarly, what about `CoapplicantIncome`?\n",
    "3. Tip: Can you see a possible skewness in the data by comparing the mean to the median, i.e. the 50% figure of a feature.\n",
    "\n"
   ]
  },
  {
   "cell_type": "markdown",
   "metadata": {},
   "source": [
    "Let's discuss nominal (categorical) variable. Look at the number of unique values in each of them."
   ]
  },
  {
   "cell_type": "code",
   "execution_count": 4,
   "metadata": {
    "collapsed": false,
    "jupyter": {
     "outputs_hidden": false
    }
   },
   "outputs": [
    {
     "name": "stdout",
     "output_type": "stream",
     "text": [
      "Loan_ID has 614 unique values\n",
      "Gender has 2 unique values\n",
      "Married has 2 unique values\n",
      "Dependents has 4 unique values\n",
      "Education has 2 unique values\n",
      "Self_Employed has 2 unique values\n",
      "Property_Area has 3 unique values\n",
      "Loan_Status has 2 unique values\n"
     ]
    }
   ],
   "source": [
    "for col in df.select_dtypes('object'):\n",
    "    print(col, 'has', str((df[col].nunique())), 'unique values')"
   ]
  },
  {
   "cell_type": "code",
   "execution_count": 5,
   "metadata": {},
   "outputs": [
    {
     "data": {
      "text/plain": [
       "Male      489\n",
       "Female    112\n",
       "Name: Gender, dtype: int64"
      ]
     },
     "execution_count": 5,
     "metadata": {},
     "output_type": "execute_result"
    }
   ],
   "source": [
    "df.Gender.value_counts()"
   ]
  },
  {
   "cell_type": "markdown",
   "metadata": {},
   "source": [
    "Explore further using the frequency of different categories in each nominal variable. Exclude the ID obvious reasons."
   ]
  },
  {
   "cell_type": "code",
   "execution_count": 6,
   "metadata": {},
   "outputs": [
    {
     "name": "stdout",
     "output_type": "stream",
     "text": [
      "Breakdown of value frequency in Gender :\n",
      "\tThe value \"Male\" occurs 489 times.\n",
      "\tThe value \"Female\" occurs 112 times.\n",
      "Breakdown of value frequency in Married :\n",
      "\tThe value \"Yes\" occurs 398 times.\n",
      "\tThe value \"No\" occurs 213 times.\n",
      "Breakdown of value frequency in Dependents :\n",
      "\tThe value \"0\" occurs 345 times.\n",
      "\tThe value \"1\" occurs 102 times.\n",
      "\tThe value \"2\" occurs 101 times.\n",
      "\tThe value \"3+\" occurs 51 times.\n",
      "Breakdown of value frequency in Education :\n",
      "\tThe value \"Graduate\" occurs 480 times.\n",
      "\tThe value \"Not Graduate\" occurs 134 times.\n",
      "Breakdown of value frequency in Self_Employed :\n",
      "\tThe value \"No\" occurs 500 times.\n",
      "\tThe value \"Yes\" occurs 82 times.\n",
      "Breakdown of value frequency in Property_Area :\n",
      "\tThe value \"Semiurban\" occurs 233 times.\n",
      "\tThe value \"Urban\" occurs 202 times.\n",
      "\tThe value \"Rural\" occurs 179 times.\n",
      "Breakdown of value frequency in Loan_Status :\n",
      "\tThe value \"Y\" occurs 422 times.\n",
      "\tThe value \"N\" occurs 192 times.\n"
     ]
    }
   ],
   "source": [
    "exclude_id = df.drop('Loan_ID',axis=1)\n",
    "for col in exclude_id.select_dtypes('object'):\n",
    "    print('Breakdown of value frequency in', col, ':')\n",
    "    for n in range(exclude_id[col].nunique()):\n",
    "        print(f'\\tThe value \"{exclude_id[col].value_counts().index[n]}\" occurs {exclude_id[col].value_counts().values[n]} times.')"
   ]
  },
  {
   "cell_type": "code",
   "execution_count": 7,
   "metadata": {
    "collapsed": false,
    "jupyter": {
     "outputs_hidden": false
    }
   },
   "outputs": [
    {
     "data": {
      "image/png": "[encoded data removed]",
      "text/plain": [
       "<Figure size 1200x600 with 8 Axes>"
      ]
     },
     "metadata": {},
     "output_type": "display_data"
    }
   ],
   "source": [
    "fig, axes = plt.subplots(nrows=2, ncols=4, figsize=(12, 6))\n",
    "for i, col in enumerate(exclude_id.select_dtypes('object')):\n",
    "    rowPlace = i // 4\n",
    "    colPlace = i % 4\n",
    "    value_counts = exclude_id[col].value_counts()\n",
    "    axes[rowPlace, colPlace].bar(value_counts.index, value_counts.values)\n",
    "    axes[rowPlace, colPlace].set_title(col)\n",
    "plt.tight_layout()\n",
    "plt.show()"
   ]
  },
  {
   "cell_type": "markdown",
   "metadata": {},
   "source": [
    "### Distribution analysis\n",
    "\n",
    "Study distribution of various variables. Plot the histogram of ApplicantIncome, try different number of bins.\n",
    "\n"
   ]
  },
  {
   "cell_type": "code",
   "execution_count": 8,
   "metadata": {},
   "outputs": [
    {
     "data": {
      "image/png": "[encoded data removed]",
      "text/plain": [
       "<Figure size 1200x600 with 3 Axes>"
      ]
     },
     "metadata": {},
     "output_type": "display_data"
    }
   ],
   "source": [
    "cols = ['ApplicantIncome', 'CoapplicantIncome', 'LoanAmount']\n",
    "fig, axes = plt.subplots(nrows=1, ncols=3, figsize=(12, 6))\n",
    "bins = 60\n",
    "for i, col in enumerate(cols):\n",
    "    axes[i].hist(df[col],bins=bins)\n",
    "    axes[i].set_title(col)\n",
    "plt.tight_layout()\n",
    "plt.show()"
   ]
  },
  {
   "cell_type": "markdown",
   "metadata": {},
   "source": [
    "\n",
    "Look at box plots to understand the distributions. "
   ]
  },
  {
   "cell_type": "code",
   "execution_count": 9,
   "metadata": {},
   "outputs": [
    {
     "data": {
      "image/png": "[encoded data removed]",
      "text/plain": [
       "<Figure size 640x480 with 1 Axes>"
      ]
     },
     "metadata": {},
     "output_type": "display_data"
    }
   ],
   "source": [
    "plt.boxplot(df[['ApplicantIncome', 'CoapplicantIncome', 'LoanAmount']].dropna())\n",
    "plt.show()"
   ]
  },
  {
   "cell_type": "markdown",
   "metadata": {},
   "source": [
    "Look at the distribution of income segregated  by `Education`"
   ]
  },
  {
   "cell_type": "code",
   "execution_count": 10,
   "metadata": {
    "collapsed": false,
    "jupyter": {
     "outputs_hidden": false
    }
   },
   "outputs": [
    {
     "data": {
      "image/png": "[encoded data removed]",
      "text/plain": [
       "<Figure size 1200x600 with 2 Axes>"
      ]
     },
     "metadata": {},
     "output_type": "display_data"
    }
   ],
   "source": [
    "fig, axes = plt.subplots(nrows=1, ncols=2, figsize=(12, 6))\n",
    "bins = 60\n",
    "axes[0].hist(df[df['Education'] == \"Graduate\"].ApplicantIncome,bins=bins)\n",
    "axes[0].set_title('Graduates')\n",
    "axes[1].hist(df[df['Education'] == \"Not Graduate\"].ApplicantIncome,bins=bins)\n",
    "axes[1].set_title('Not Graduates')\n",
    "plt.show()"
   ]
  },
  {
   "cell_type": "markdown",
   "metadata": {},
   "source": [
    "Look at the histogram and boxplot of LoanAmount"
   ]
  },
  {
   "cell_type": "code",
   "execution_count": 11,
   "metadata": {
    "collapsed": false,
    "jupyter": {
     "outputs_hidden": false
    }
   },
   "outputs": [
    {
     "data": {
      "image/png": "[encoded data removed]",
      "text/plain": [
       "<Figure size 1200x600 with 4 Axes>"
      ]
     },
     "metadata": {},
     "output_type": "display_data"
    }
   ],
   "source": [
    "fig, axes = plt.subplots(nrows=1, ncols=4, figsize=(12, 6))\n",
    "bins = [20,40,60,80]\n",
    "for i,_ in enumerate(bins):\n",
    "    axes[i].hist(df.LoanAmount, bins=bins[i])\n",
    "    axes[i].set_title('Loan Amount Distribution')\n",
    "plt.tight_layout()\n",
    "plt.show()"
   ]
  },
  {
   "cell_type": "code",
   "execution_count": 12,
   "metadata": {
    "collapsed": false,
    "jupyter": {
     "outputs_hidden": false
    }
   },
   "outputs": [
    {
     "data": {
      "image/png": "[encoded data removed]",
      "text/plain": [
       "<Figure size 640x480 with 1 Axes>"
      ]
     },
     "metadata": {},
     "output_type": "display_data"
    }
   ],
   "source": [
    "plt.boxplot(df['LoanAmount'].dropna())\n",
    "plt.show()"
   ]
  },
  {
   "cell_type": "markdown",
   "metadata": {},
   "source": [
    "There might be some extreme values. Both `ApplicantIncome` and `LoanAmount` require some amount of data munging. `LoanAmount` has missing and well as extreme values values, while `ApplicantIncome` has a few extreme values, which demand deeper understanding. "
   ]
  },
  {
   "cell_type": "markdown",
   "metadata": {},
   "source": [
    "### Categorical variable analysis\n",
    "\n",
    "Try to understand categorical variables in more details using `pandas.DataFrame.pivot_table` and some visualizations."
   ]
  },
  {
   "cell_type": "code",
   "execution_count": 13,
   "metadata": {},
   "outputs": [
    {
     "data": {
      "text/plain": [
       "Index(['Loan_ID', 'Gender', 'Married', 'Dependents', 'Education',\n",
       "       'Self_Employed', 'ApplicantIncome', 'CoapplicantIncome', 'LoanAmount',\n",
       "       'Loan_Amount_Term', 'Credit_History', 'Property_Area', 'Loan_Status'],\n",
       "      dtype='object')"
      ]
     },
     "execution_count": 13,
     "metadata": {},
     "output_type": "execute_result"
    }
   ],
   "source": [
    "df.columns"
   ]
  },
  {
   "cell_type": "code",
   "execution_count": 14,
   "metadata": {
    "collapsed": false,
    "jupyter": {
     "outputs_hidden": false
    }
   },
   "outputs": [
    {
     "data": {
      "text/html": [
       "<div>\n",
       "<style scoped>\n",
       "    .dataframe tbody tr th:only-of-type {\n",
       "        vertical-align: middle;\n",
       "    }\n",
       "\n",
       "    .dataframe tbody tr th {\n",
       "        vertical-align: top;\n",
       "    }\n",
       "\n",
       "    .dataframe thead tr th {\n",
       "        text-align: left;\n",
       "    }\n",
       "\n",
       "    .dataframe thead tr:last-of-type th {\n",
       "        text-align: right;\n",
       "    }\n",
       "</style>\n",
       "<table border=\"1\" class=\"dataframe\">\n",
       "  <thead>\n",
       "    <tr>\n",
       "      <th></th>\n",
       "      <th colspan=\"2\" halign=\"left\">ApplicantIncome</th>\n",
       "      <th colspan=\"2\" halign=\"left\">CoapplicantIncome</th>\n",
       "      <th colspan=\"2\" halign=\"left\">LoanAmount</th>\n",
       "      <th colspan=\"2\" halign=\"left\">Loan_Amount_Term</th>\n",
       "    </tr>\n",
       "    <tr>\n",
       "      <th>Gender</th>\n",
       "      <th>Female</th>\n",
       "      <th>Male</th>\n",
       "      <th>Female</th>\n",
       "      <th>Male</th>\n",
       "      <th>Female</th>\n",
       "      <th>Male</th>\n",
       "      <th>Female</th>\n",
       "      <th>Male</th>\n",
       "    </tr>\n",
       "    <tr>\n",
       "      <th>Loan_Status</th>\n",
       "      <th></th>\n",
       "      <th></th>\n",
       "      <th></th>\n",
       "      <th></th>\n",
       "      <th></th>\n",
       "      <th></th>\n",
       "      <th></th>\n",
       "      <th></th>\n",
       "    </tr>\n",
       "  </thead>\n",
       "  <tbody>\n",
       "    <tr>\n",
       "      <th>N</th>\n",
       "      <td>4091.351351</td>\n",
       "      <td>5859.240000</td>\n",
       "      <td>1682.783784</td>\n",
       "      <td>1936.226667</td>\n",
       "      <td>128.694444</td>\n",
       "      <td>157.878571</td>\n",
       "      <td>351.000000</td>\n",
       "      <td>341.793103</td>\n",
       "    </tr>\n",
       "    <tr>\n",
       "      <th>Y</th>\n",
       "      <td>4915.853333</td>\n",
       "      <td>5263.814159</td>\n",
       "      <td>824.453333</td>\n",
       "      <td>1657.403894</td>\n",
       "      <td>125.712329</td>\n",
       "      <td>145.612121</td>\n",
       "      <td>352.931507</td>\n",
       "      <td>338.738739</td>\n",
       "    </tr>\n",
       "  </tbody>\n",
       "</table>\n",
       "</div>"
      ],
      "text/plain": [
       "            ApplicantIncome              CoapplicantIncome               \\\n",
       "Gender               Female         Male            Female         Male   \n",
       "Loan_Status                                                               \n",
       "N               4091.351351  5859.240000       1682.783784  1936.226667   \n",
       "Y               4915.853333  5263.814159        824.453333  1657.403894   \n",
       "\n",
       "             LoanAmount             Loan_Amount_Term              \n",
       "Gender           Female        Male           Female        Male  \n",
       "Loan_Status                                                       \n",
       "N            128.694444  157.878571       351.000000  341.793103  \n",
       "Y            125.712329  145.612121       352.931507  338.738739  "
      ]
     },
     "execution_count": 14,
     "metadata": {},
     "output_type": "execute_result"
    }
   ],
   "source": [
    "df.pivot_table(values=['ApplicantIncome','LoanAmount','Loan_Amount_Term','Education','CoapplicantIncome'],index='Loan_Status',columns=['Gender'])"
   ]
  },
  {
   "cell_type": "code",
   "execution_count": 15,
   "metadata": {
    "collapsed": false,
    "jupyter": {
     "outputs_hidden": false
    }
   },
   "outputs": [
    {
     "data": {
      "text/html": [
       "<div>\n",
       "<style scoped>\n",
       "    .dataframe tbody tr th:only-of-type {\n",
       "        vertical-align: middle;\n",
       "    }\n",
       "\n",
       "    .dataframe tbody tr th {\n",
       "        vertical-align: top;\n",
       "    }\n",
       "\n",
       "    .dataframe thead tr th {\n",
       "        text-align: left;\n",
       "    }\n",
       "\n",
       "    .dataframe thead tr:last-of-type th {\n",
       "        text-align: right;\n",
       "    }\n",
       "</style>\n",
       "<table border=\"1\" class=\"dataframe\">\n",
       "  <thead>\n",
       "    <tr>\n",
       "      <th></th>\n",
       "      <th colspan=\"2\" halign=\"left\">ApplicantIncome</th>\n",
       "      <th colspan=\"2\" halign=\"left\">CoapplicantIncome</th>\n",
       "      <th colspan=\"2\" halign=\"left\">LoanAmount</th>\n",
       "      <th colspan=\"2\" halign=\"left\">Loan_Amount_Term</th>\n",
       "    </tr>\n",
       "    <tr>\n",
       "      <th>Gender</th>\n",
       "      <th>Female</th>\n",
       "      <th>Male</th>\n",
       "      <th>Female</th>\n",
       "      <th>Male</th>\n",
       "      <th>Female</th>\n",
       "      <th>Male</th>\n",
       "      <th>Female</th>\n",
       "      <th>Male</th>\n",
       "    </tr>\n",
       "    <tr>\n",
       "      <th>Credit_History</th>\n",
       "      <th></th>\n",
       "      <th></th>\n",
       "      <th></th>\n",
       "      <th></th>\n",
       "      <th></th>\n",
       "      <th></th>\n",
       "      <th></th>\n",
       "      <th></th>\n",
       "    </tr>\n",
       "  </thead>\n",
       "  <tbody>\n",
       "    <tr>\n",
       "      <th>0.0</th>\n",
       "      <td>3804.411765</td>\n",
       "      <td>6253.188406</td>\n",
       "      <td>1136.470588</td>\n",
       "      <td>1622.246377</td>\n",
       "      <td>124.375000</td>\n",
       "      <td>153.045455</td>\n",
       "      <td>367.500000</td>\n",
       "      <td>334.687500</td>\n",
       "    </tr>\n",
       "    <tr>\n",
       "      <th>1.0</th>\n",
       "      <td>5013.488095</td>\n",
       "      <td>5323.400524</td>\n",
       "      <td>626.642857</td>\n",
       "      <td>1739.028586</td>\n",
       "      <td>126.439024</td>\n",
       "      <td>146.520436</td>\n",
       "      <td>350.487805</td>\n",
       "      <td>340.595745</td>\n",
       "    </tr>\n",
       "  </tbody>\n",
       "</table>\n",
       "</div>"
      ],
      "text/plain": [
       "               ApplicantIncome              CoapplicantIncome               \\\n",
       "Gender                  Female         Male            Female         Male   \n",
       "Credit_History                                                               \n",
       "0.0                3804.411765  6253.188406       1136.470588  1622.246377   \n",
       "1.0                5013.488095  5323.400524        626.642857  1739.028586   \n",
       "\n",
       "                LoanAmount             Loan_Amount_Term              \n",
       "Gender              Female        Male           Female        Male  \n",
       "Credit_History                                                       \n",
       "0.0             124.375000  153.045455       367.500000  334.687500  \n",
       "1.0             126.439024  146.520436       350.487805  340.595745  "
      ]
     },
     "execution_count": 15,
     "metadata": {},
     "output_type": "execute_result"
    }
   ],
   "source": [
    "df.pivot_table(values=['ApplicantIncome','LoanAmount','Loan_Amount_Term','Education','CoapplicantIncome'],index='Credit_History',columns=['Gender'])"
   ]
  },
  {
   "cell_type": "code",
   "execution_count": 16,
   "metadata": {},
   "outputs": [
    {
     "data": {
      "text/html": [
       "<div>\n",
       "<style scoped>\n",
       "    .dataframe tbody tr th:only-of-type {\n",
       "        vertical-align: middle;\n",
       "    }\n",
       "\n",
       "    .dataframe tbody tr th {\n",
       "        vertical-align: top;\n",
       "    }\n",
       "\n",
       "    .dataframe thead tr th {\n",
       "        text-align: left;\n",
       "    }\n",
       "\n",
       "    .dataframe thead tr:last-of-type th {\n",
       "        text-align: right;\n",
       "    }\n",
       "</style>\n",
       "<table border=\"1\" class=\"dataframe\">\n",
       "  <thead>\n",
       "    <tr>\n",
       "      <th></th>\n",
       "      <th colspan=\"2\" halign=\"left\">ApplicantIncome</th>\n",
       "      <th colspan=\"2\" halign=\"left\">CoapplicantIncome</th>\n",
       "      <th colspan=\"2\" halign=\"left\">LoanAmount</th>\n",
       "      <th colspan=\"2\" halign=\"left\">Loan_Amount_Term</th>\n",
       "    </tr>\n",
       "    <tr>\n",
       "      <th>Gender</th>\n",
       "      <th>Female</th>\n",
       "      <th>Male</th>\n",
       "      <th>Female</th>\n",
       "      <th>Male</th>\n",
       "      <th>Female</th>\n",
       "      <th>Male</th>\n",
       "      <th>Female</th>\n",
       "      <th>Male</th>\n",
       "    </tr>\n",
       "    <tr>\n",
       "      <th>Property_Area</th>\n",
       "      <th></th>\n",
       "      <th></th>\n",
       "      <th></th>\n",
       "      <th></th>\n",
       "      <th></th>\n",
       "      <th></th>\n",
       "      <th></th>\n",
       "      <th></th>\n",
       "    </tr>\n",
       "  </thead>\n",
       "  <tbody>\n",
       "    <tr>\n",
       "      <th>Rural</th>\n",
       "      <td>4353.375000</td>\n",
       "      <td>5691.291391</td>\n",
       "      <td>522.541667</td>\n",
       "      <td>1807.643179</td>\n",
       "      <td>122.041667</td>\n",
       "      <td>155.882759</td>\n",
       "      <td>370.000000</td>\n",
       "      <td>341.142857</td>\n",
       "    </tr>\n",
       "    <tr>\n",
       "      <th>Semiurban</th>\n",
       "      <td>4787.272727</td>\n",
       "      <td>5412.529070</td>\n",
       "      <td>937.800000</td>\n",
       "      <td>1711.901163</td>\n",
       "      <td>135.245283</td>\n",
       "      <td>148.420118</td>\n",
       "      <td>344.727273</td>\n",
       "      <td>347.431953</td>\n",
       "    </tr>\n",
       "    <tr>\n",
       "      <th>Urban</th>\n",
       "      <td>4614.787879</td>\n",
       "      <td>5258.909639</td>\n",
       "      <td>1817.484848</td>\n",
       "      <td>1716.221687</td>\n",
       "      <td>116.031250</td>\n",
       "      <td>144.032051</td>\n",
       "      <td>352.000000</td>\n",
       "      <td>330.222222</td>\n",
       "    </tr>\n",
       "  </tbody>\n",
       "</table>\n",
       "</div>"
      ],
      "text/plain": [
       "              ApplicantIncome              CoapplicantIncome               \\\n",
       "Gender                 Female         Male            Female         Male   \n",
       "Property_Area                                                               \n",
       "Rural             4353.375000  5691.291391        522.541667  1807.643179   \n",
       "Semiurban         4787.272727  5412.529070        937.800000  1711.901163   \n",
       "Urban             4614.787879  5258.909639       1817.484848  1716.221687   \n",
       "\n",
       "               LoanAmount             Loan_Amount_Term              \n",
       "Gender             Female        Male           Female        Male  \n",
       "Property_Area                                                       \n",
       "Rural          122.041667  155.882759       370.000000  341.142857  \n",
       "Semiurban      135.245283  148.420118       344.727273  347.431953  \n",
       "Urban          116.031250  144.032051       352.000000  330.222222  "
      ]
     },
     "execution_count": 16,
     "metadata": {},
     "output_type": "execute_result"
    }
   ],
   "source": [
    "df.pivot_table(values=['ApplicantIncome','LoanAmount','Loan_Amount_Term','Education','CoapplicantIncome'],index='Property_Area',columns=['Gender'])"
   ]
  },
  {
   "cell_type": "code",
   "execution_count": 17,
   "metadata": {},
   "outputs": [
    {
     "data": {
      "text/html": [
       "<div>\n",
       "<style scoped>\n",
       "    .dataframe tbody tr th:only-of-type {\n",
       "        vertical-align: middle;\n",
       "    }\n",
       "\n",
       "    .dataframe tbody tr th {\n",
       "        vertical-align: top;\n",
       "    }\n",
       "\n",
       "    .dataframe thead tr th {\n",
       "        text-align: left;\n",
       "    }\n",
       "\n",
       "    .dataframe thead tr:last-of-type th {\n",
       "        text-align: right;\n",
       "    }\n",
       "</style>\n",
       "<table border=\"1\" class=\"dataframe\">\n",
       "  <thead>\n",
       "    <tr>\n",
       "      <th></th>\n",
       "      <th colspan=\"2\" halign=\"left\">ApplicantIncome</th>\n",
       "      <th colspan=\"2\" halign=\"left\">CoapplicantIncome</th>\n",
       "      <th colspan=\"2\" halign=\"left\">LoanAmount</th>\n",
       "      <th colspan=\"2\" halign=\"left\">Loan_Amount_Term</th>\n",
       "    </tr>\n",
       "    <tr>\n",
       "      <th>Loan_Status</th>\n",
       "      <th>N</th>\n",
       "      <th>Y</th>\n",
       "      <th>N</th>\n",
       "      <th>Y</th>\n",
       "      <th>N</th>\n",
       "      <th>Y</th>\n",
       "      <th>N</th>\n",
       "      <th>Y</th>\n",
       "    </tr>\n",
       "    <tr>\n",
       "      <th>Self_Employed</th>\n",
       "      <th></th>\n",
       "      <th></th>\n",
       "      <th></th>\n",
       "      <th></th>\n",
       "      <th></th>\n",
       "      <th></th>\n",
       "      <th></th>\n",
       "      <th></th>\n",
       "    </tr>\n",
       "  </thead>\n",
       "  <tbody>\n",
       "    <tr>\n",
       "      <th>No</th>\n",
       "      <td>5397.592357</td>\n",
       "      <td>4890.530612</td>\n",
       "      <td>1682.445860</td>\n",
       "      <td>1534.550787</td>\n",
       "      <td>149.47973</td>\n",
       "      <td>138.323353</td>\n",
       "      <td>346.728477</td>\n",
       "      <td>341.715976</td>\n",
       "    </tr>\n",
       "    <tr>\n",
       "      <th>Yes</th>\n",
       "      <td>6081.076923</td>\n",
       "      <td>7984.267857</td>\n",
       "      <td>1809.923077</td>\n",
       "      <td>1358.071429</td>\n",
       "      <td>156.36000</td>\n",
       "      <td>179.240741</td>\n",
       "      <td>330.000000</td>\n",
       "      <td>339.333333</td>\n",
       "    </tr>\n",
       "  </tbody>\n",
       "</table>\n",
       "</div>"
      ],
      "text/plain": [
       "              ApplicantIncome              CoapplicantIncome               \\\n",
       "Loan_Status                 N            Y                 N            Y   \n",
       "Self_Employed                                                               \n",
       "No                5397.592357  4890.530612       1682.445860  1534.550787   \n",
       "Yes               6081.076923  7984.267857       1809.923077  1358.071429   \n",
       "\n",
       "              LoanAmount             Loan_Amount_Term              \n",
       "Loan_Status            N           Y                N           Y  \n",
       "Self_Employed                                                      \n",
       "No             149.47973  138.323353       346.728477  341.715976  \n",
       "Yes            156.36000  179.240741       330.000000  339.333333  "
      ]
     },
     "execution_count": 17,
     "metadata": {},
     "output_type": "execute_result"
    }
   ],
   "source": [
    "df.pivot_table(values=['ApplicantIncome','LoanAmount','Loan_Amount_Term','Education','CoapplicantIncome'],index='Self_Employed',columns=['Loan_Status'])"
   ]
  },
  {
   "cell_type": "markdown",
   "metadata": {},
   "source": [
    "## 3. Data Cleaning\n",
    "\n",
    "This step typically involves imputing missing values and treating outliers. "
   ]
  },
  {
   "cell_type": "markdown",
   "metadata": {},
   "source": [
    "### Imputing Missing Values\n",
    "\n",
    "Missing values may not always be NaNs. For instance, the `Loan_Amount_Term` might be 0, which does not make sense.\n",
    "\n"
   ]
  },
  {
   "cell_type": "markdown",
   "metadata": {},
   "source": [
    "Impute missing values for all columns. Use the values which you find most meaningful (mean, mode, median, zero.... maybe different mean values for different groups)"
   ]
  },
  {
   "cell_type": "code",
   "execution_count": 3,
   "metadata": {
    "collapsed": false,
    "jupyter": {
     "outputs_hidden": false
    }
   },
   "outputs": [],
   "source": [
    "from modules.cleaning import fill_values\n",
    "df = fill_values(df)"
   ]
  },
  {
   "cell_type": "markdown",
   "metadata": {},
   "source": [
    "### Extreme values\n",
    "Try a log transformation to get rid of the extreme values in `LoanAmount`. Plot the histogram before and after the transformation"
   ]
  },
  {
   "cell_type": "code",
   "execution_count": 7,
   "metadata": {
    "collapsed": false,
    "jupyter": {
     "outputs_hidden": false
    }
   },
   "outputs": [
    {
     "data": {
      "text/plain": [
       "count    614.000000\n",
       "mean       4.862066\n",
       "std        0.496575\n",
       "min        2.197225\n",
       "25%        4.607658\n",
       "50%        4.859812\n",
       "75%        5.104426\n",
       "max        6.551080\n",
       "Name: LoanAmount, dtype: float64"
      ]
     },
     "execution_count": 7,
     "metadata": {},
     "output_type": "execute_result"
    }
   ],
   "source": [
    "df.LoanAmount = np.log(df.LoanAmount)\n",
    "df.LoanAmount.describe()"
   ]
  },
  {
   "cell_type": "markdown",
   "metadata": {},
   "source": [
    "Combine both incomes as total income and take a log transformation of the same."
   ]
  },
  {
   "cell_type": "code",
   "execution_count": 8,
   "metadata": {
    "collapsed": false,
    "jupyter": {
     "outputs_hidden": false
    }
   },
   "outputs": [
    {
     "data": {
      "text/plain": [
       "count    614.000000\n",
       "mean       8.669414\n",
       "std        0.545102\n",
       "min        7.273786\n",
       "25%        8.334712\n",
       "50%        8.597205\n",
       "75%        8.925549\n",
       "max       11.302204\n",
       "Name: total_income, dtype: float64"
      ]
     },
     "execution_count": 8,
     "metadata": {},
     "output_type": "execute_result"
    }
   ],
   "source": [
    "df['total_income'] = df.ApplicantIncome + df.CoapplicantIncome\n",
    "df.total_income = np.log(df.total_income)\n",
    "df.total_income.describe()"
   ]
  },
  {
   "cell_type": "markdown",
   "metadata": {},
   "source": [
    "## 4. Building a Predictive Model"
   ]
  },
  {
   "cell_type": "code",
   "execution_count": 5,
   "metadata": {},
   "outputs": [],
   "source": [
    "cols = ['Gender', 'Married', 'Dependents', 'Education',\n",
    "       'Self_Employed', 'LoanAmount',\n",
    "       'Loan_Amount_Term', 'Credit_History', 'Property_Area',\n",
    "       'total_income']"
   ]
  },
  {
   "cell_type": "code",
   "execution_count": 9,
   "metadata": {},
   "outputs": [],
   "source": [
    "from xgboost import XGBClassifier\n",
    "from sklearn.ensemble import RandomForestClassifier\n",
    "from sklearn.model_selection import train_test_split\n",
    "xgb = XGBClassifier()\n",
    "X = pd.get_dummies(df[cols],drop_first=True)\n",
    "y = df.Loan_Status.map({'N':0,'Y':1})"
   ]
  },
  {
   "cell_type": "code",
   "execution_count": 164,
   "metadata": {},
   "outputs": [],
   "source": [
    "x_train,x_test,y_train,y_test = train_test_split(X,y)\n",
    "xgb.fit(x_train,y_train)\n",
    "y_predDefault = xgb.predict(x_test)"
   ]
  },
  {
   "cell_type": "code",
   "execution_count": 29,
   "metadata": {},
   "outputs": [
    {
     "name": "stdout",
     "output_type": "stream",
     "text": [
      "R squared: 0.3038522012578615 \n",
      "\n",
      "accuracy: 0.8506493506493507\n",
      "precision: 0.8429752066115702\n",
      "recall: 0.9622641509433962\n",
      "f1: 0.8986784140969164\n",
      "auc: 0.7832154088050315\n",
      "confusion:\n",
      " [[ 29  19]\n",
      " [  4 102]]\n"
     ]
    }
   ],
   "source": [
    "from modules.eval import print_scores\n",
    "print_scores(y_test,y_predDefault)"
   ]
  },
  {
   "cell_type": "markdown",
   "metadata": {},
   "source": [
    "Try paramater grid search to improve the results"
   ]
  },
  {
   "cell_type": "code",
   "execution_count": null,
   "metadata": {
    "collapsed": false,
    "jupyter": {
     "outputs_hidden": false
    }
   },
   "outputs": [],
   "source": [
    "from sklearn.model_selection import GridSearchCV\n",
    "param_grid = {\n",
    "    'max_depth': [5,6,7,8],\n",
    "    'learning_rate': [0.01, 0.1, 0.2],\n",
    "    'n_estimators': [50, 100, 200],\n",
    "    'subsample': [0.3,0.5, 0.8],\n",
    "    'colsample_bytree': [0.3,0.5, 0.8],\n",
    "    'gamma': [0, 0.1, 0.2],\n",
    "    'reg_alpha': [0, 0.1, 0.5],\n",
    "    'reg_lambda': [0.1, 1.0, 10.0]\n",
    "}\n",
    "\n",
    "grid_search = GridSearchCV(estimator=xgb, param_grid=param_grid, cv=5, n_jobs=-1)\n",
    "\n",
    "grid_search.fit(X, y)\n",
    "\n",
    "print(\"Best parameters found: \", grid_search.best_params_)\n",
    "print(\"Best score found: \", grid_search.best_score_)"
   ]
  },
  {
   "attachments": {},
   "cell_type": "markdown",
   "metadata": {},
   "source": [
    "Best parameters found:\n",
    "```python\n",
    "{'colsample_bytree': 0.5,\n",
    "'gamma': 0,\n",
    "'learning_rate': 0.1,\n",
    "'max_depth': 5, \n",
    "'n_estimators': 200, \n",
    "'reg_alpha': 0.5, \n",
    "'reg_lambda': 10.0, \n",
    "'subsample': 0.3}\n",
    "```\n",
    "Best score found: 0.8322804211648676"
   ]
  },
  {
   "cell_type": "code",
   "execution_count": 170,
   "metadata": {
    "collapsed": false,
    "jupyter": {
     "outputs_hidden": false
    }
   },
   "outputs": [
    {
     "name": "stdout",
     "output_type": "stream",
     "text": [
      "R squared: 0.30000000000000004 \n",
      "\n",
      "accuracy: 0.8571428571428571\n",
      "precision: 0.84375\n",
      "recall: 0.9818181818181818\n",
      "f1: 0.9075630252100839\n",
      "auc: 0.7636363636363637\n",
      "confusion:\n",
      " [[ 24  20]\n",
      " [  2 108]]\n"
     ]
    }
   ],
   "source": [
    "bestParams = {\n",
    "    'colsample_bytree': 0.5,\n",
    "    'gamma': 0,\n",
    "    'learning_rate': 0.1,\n",
    "    'max_depth': 5, \n",
    "    'n_estimators': 200, \n",
    "    'reg_alpha': 0.5, \n",
    "    'reg_lambda': 10.0, \n",
    "    'subsample': 0.3\n",
    "}\n",
    "xgb = XGBClassifier(**bestParams)\n",
    "x_train,x_test,y_train,y_test = train_test_split(X,y)\n",
    "xgb.fit(x_train,y_train)\n",
    "y_predBest = xgb.predict(x_test)\n",
    "\n",
    "print_scores(y_test,y_predBest)"
   ]
  },
  {
   "cell_type": "code",
   "execution_count": 171,
   "metadata": {},
   "outputs": [
    {
     "name": "stdout",
     "output_type": "stream",
     "text": [
      "R squared increased by: 1.1772727272727272 \n",
      "\n",
      "accuracy increased by: 0.24025974025974017\n",
      "precision increased by: 0.12580128205128205\n",
      "recall increased by: 0.21818181818181814\n",
      "f1 increased by: 0.1674749194832117\n",
      "auc increased by: 0.25681818181818183\n",
      "confusion matrix difference:\n",
      " [[ 13 -13]\n",
      " [-24  24]]\n"
     ]
    }
   ],
   "source": [
    "print_scores(y_test,y_predBest,compare=True,y_predOld=y_predDefault)"
   ]
  },
  {
   "cell_type": "markdown",
   "metadata": {
    "jupyter": {
     "outputs_hidden": false
    }
   },
   "source": [
    "## 5. Using Pipeline\n",
    "If you didn't use pipelines before, transform your data prep, feat. engineering and modeling steps into Pipeline. It will be helpful for deployment.\n",
    "\n",
    "The goal here is to create the pipeline that will take one row of our dataset and predict the probability of being granted a loan.\n",
    "\n",
    "`pipeline.predict(x)`"
   ]
  },
  {
   "cell_type": "code",
   "execution_count": 33,
   "metadata": {},
   "outputs": [],
   "source": [
    "from sklearn.pipeline import Pipeline\n",
    "from sklearn.compose import ColumnTransformer\n",
    "from sklearn.preprocessing import OneHotEncoder\n",
    "from sklearn.base import BaseEstimator, TransformerMixin\n",
    "\n",
    "class LogTransformer(BaseEstimator, TransformerMixin):\n",
    "    def fit(self, X, y=None):\n",
    "        return self\n",
    "    \n",
    "    def transform(self, X, y=None):\n",
    "        X_log = np.log(X[['LoanAmount', 'total_income']])\n",
    "        X.drop(['LoanAmount', 'total_income'], axis=1, inplace=True)\n",
    "        return pd.concat([X, X_log], axis=1)\n",
    "\n",
    "categorical_cols = ['Gender', 'Married', 'Dependents', 'Education', 'Self_Employed', 'Property_Area']\n",
    "preprocess = ColumnTransformer(\n",
    "    transformers=[\n",
    "        ('ohe', OneHotEncoder(drop='first', sparse=False), categorical_cols),\n",
    "        ('log',LogTransformer(),['LoanAmount','total_income'])\n",
    "    ],remainder='passthrough')\n",
    "params = {'colsample_bytree': 0.5, 'gamma': 0, 'learning_rate': 0.1, 'max_depth': 5, 'n_estimators': 200, 'reg_alpha': 0.5, 'reg_lambda': 10.0, 'subsample': 0.3}\n",
    "\n",
    "pipeline = Pipeline(steps=[('preprocess', preprocess),\n",
    "                           ('classifier', XGBClassifier(**params))])"
   ]
  },
  {
   "cell_type": "code",
   "execution_count": 34,
   "metadata": {},
   "outputs": [
    {
     "name": "stdout",
     "output_type": "stream",
     "text": [
      "R squared: 0.2450980392156863 \n",
      "\n",
      "accuracy: 0.8311688311688312\n",
      "precision: 0.8015873015873016\n",
      "recall: 0.9901960784313726\n",
      "f1: 0.8859649122807018\n",
      "auc: 0.7547134238310709\n",
      "confusion:\n",
      " [[ 27  25]\n",
      " [  1 101]]\n"
     ]
    }
   ],
   "source": [
    "X = df[['Gender', 'Married', 'Dependents', 'Education','Self_Employed', 'LoanAmount',\n",
    "       'Loan_Amount_Term', 'Credit_History', 'Property_Area', 'total_income']]\n",
    "y = df.Loan_Status.map({'N':0,'Y':1})\n",
    "x_train,x_test,y_train,y_test = train_test_split(X,y)\n",
    "\n",
    "pipeline.fit(x_train, y_train)\n",
    "\n",
    "y_pred = pipeline.predict(x_test)\n",
    "print_scores(y_test,y_pred)"
   ]
  },
  {
   "cell_type": "code",
   "execution_count": 32,
   "metadata": {},
   "outputs": [],
   "source": [
    "import pickle\n",
    "with open('../src/loan_XGBClass_pipe.pkl', 'wb') as f:\n",
    "    pickle.dump(pipeline, f)"
   ]
  },
  {
   "cell_type": "markdown",
   "metadata": {},
   "source": [
    "## 6. Deploy your model to cloud and test it with PostMan, BASH or Python"
   ]
  },
  {
   "cell_type": "code",
   "execution_count": 36,
   "metadata": {},
   "outputs": [],
   "source": [
    "import requests\n"
   ]
  },
  {
   "cell_type": "code",
   "execution_count": 59,
   "metadata": {},
   "outputs": [],
   "source": [
    "url = 'http://ec2-34-209-210-59.us-west-2.compute.amazonaws.com:5000/prediction'\n",
    "params = {\n",
    "    'Gender': 'Male',\n",
    "    'Married': 'Yes',\n",
    "    'Dependents': '0',\n",
    "    'Education': 'Graduate',\n",
    "    'Self_Employed': 'No',\n",
    "    'LoanAmount': 10,\n",
    "    'Loan_Amount_Term': 360,\n",
    "    'Credit_History': 1,\n",
    "    'Property_Area': 'Urban',\n",
    "    'total_income': 6000\n",
    "    }\n",
    "response = requests.post(url = url,json=params)"
   ]
  },
  {
   "cell_type": "code",
   "execution_count": 60,
   "metadata": {},
   "outputs": [
    {
     "data": {
      "text/plain": [
       "'\"We can get you approved!\"\\n'"
      ]
     },
     "execution_count": 60,
     "metadata": {},
     "output_type": "execute_result"
    }
   ],
   "source": [
    "response.text"
   ]
  },
  {
   "attachments": {},
   "cell_type": "markdown",
   "metadata": {},
   "source": []
  },
  {
   "attachments": {},
   "cell_type": "markdown",
   "metadata": {},
   "source": [
    "![failed to load](https://cdn.discordapp.com/attachments/1046174858372972594/1081083151583031316/image.png)\n",
    "\n",
    "\n",
    "![failed to load](https://cdn.discordapp.com/attachments/1046174858372972594/1081083266897018960/image.png)\n",
    "\n",
    "![failed to load](https://cdn.discordapp.com/attachments/1046174858372972594/1081083382454296647/image.png)"
   ]
  }
 ],
 "metadata": {
  "kernelspec": {
   "display_name": "Python 3",
   "language": "python",
   "name": "python3"
  },
  "language_info": {
   "codemirror_mode": {
    "name": "ipython",
    "version": 3
   },
   "file_extension": ".py",
   "mimetype": "text/x-python",
   "name": "python",
   "nbconvert_exporter": "python",
   "pygments_lexer": "ipython3",
   "version": "3.9.13"
  }
 },
 "nbformat": 4,
 "nbformat_minor": 4
}
